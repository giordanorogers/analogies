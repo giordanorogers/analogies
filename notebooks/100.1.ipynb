{
 "cells": [
  {
   "cell_type": "code",
   "execution_count": 1,
   "id": "157f7c8c",
   "metadata": {},
   "outputs": [],
   "source": [
    "%load_ext autoreload\n",
    "%autoreload 2\n",
    "\n",
    "import json\n",
    "import random\n",
    "import string\n",
    "import re\n",
    "from pathlib import Path\n",
    "from collections import Counter\n",
    "\n",
    "import torch\n",
    "import nnsight\n",
    "from transformers import AutoTokenizer\n",
    "\n",
    "# --- Parameters ---\n",
    "# Match the plan's requirements\n",
    "DATASET_SIZE = 128\n",
    "LEXICON_CONDITION = \"mixed\" \n",
    "SEED = 23\n",
    "MODEL_NAME = \"meta-llama/Llama-3.3-70B-Instruct\"\n",
    "OUTPUT_FILE = Path(\"../data/patching_dataset_N32_mixed.jsonl\")\n",
    "\n",
    "# For reproducibility\n",
    "random.seed(SEED)\n",
    "torch.manual_seed(SEED)\n",
    "\n",
    "# Make sure the output directory exists\n",
    "OUTPUT_FILE.parent.mkdir(parents=True, exist_ok=True)"
   ]
  },
  {
   "cell_type": "code",
   "execution_count": 2,
   "id": "2cf6c6bd",
   "metadata": {},
   "outputs": [
    {
     "name": "stdout",
     "output_type": "stream",
     "text": [
      "Model and fast tokenizer loaded successfully.\n"
     ]
    }
   ],
   "source": [
    "from transformers import AutoTokenizer\n",
    "import nnsight\n",
    "import torch\n",
    "\n",
    "# --- Load Model and Tokenizer (Revised) ---\n",
    "\n",
    "# 1. Load the \"fast\" tokenizer explicitly.\n",
    "# This is crucial because the fast version has the .char_to_token() method we need.\n",
    "# trust_remote_code=True is often needed for newer models like Llama 3.\n",
    "tokenizer = AutoTokenizer.from_pretrained(MODEL_NAME, use_fast=True, trust_remote_code=True)\n",
    "\n",
    "# Llama-3 tokenizers don't have a pad_token by default. We'll set it to the eos_token.\n",
    "# This is good practice and prevents potential issues later.\n",
    "if tokenizer.pad_token is None:\n",
    "    tokenizer.pad_token = tokenizer.eos_token\n",
    "\n",
    "# 2. Load the model via nnsight, passing our pre-loaded tokenizer.\n",
    "# This ensures nnsight uses the exact tokenizer object we need.\n",
    "model = nnsight.LanguageModel(\n",
    "    MODEL_NAME,\n",
    "    tokenizer=tokenizer,  # Pass the tokenizer here\n",
    "    device_map=\"auto\",\n",
    "    torch_dtype=torch.bfloat16,\n",
    ")\n",
    "\n",
    "print(\"Model and fast tokenizer loaded successfully.\")"
   ]
  },
  {
   "cell_type": "code",
   "execution_count": null,
   "id": "ef60edef",
   "metadata": {},
   "outputs": [],
   "source": [
    "R1_NAME = \"made of\"\n"
   ]
  }
 ],
 "metadata": {
  "kernelspec": {
   "display_name": "retrieval2",
   "language": "python",
   "name": "python3"
  },
  "language_info": {
   "codemirror_mode": {
    "name": "ipython",
    "version": 3
   },
   "file_extension": ".py",
   "mimetype": "text/x-python",
   "name": "python",
   "nbconvert_exporter": "python",
   "pygments_lexer": "ipython3",
   "version": "3.11.13"
  }
 },
 "nbformat": 4,
 "nbformat_minor": 5
}
